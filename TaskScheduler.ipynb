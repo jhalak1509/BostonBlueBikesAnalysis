{
 "cells": [
  {
   "cell_type": "code",
   "execution_count": 16,
   "id": "bc11cffc",
   "metadata": {},
   "outputs": [],
   "source": [
    "from datetime import datetime, timedelta\n",
    "from croniter import croniter\n",
    "import time\n",
    "import os"
   ]
  },
  {
   "cell_type": "code",
   "execution_count": 17,
   "id": "df125a64",
   "metadata": {},
   "outputs": [],
   "source": [
    "# Define the cron expression for running the task\n",
    "expr = '15 20 * * *'"
   ]
  },
  {
   "cell_type": "code",
   "execution_count": 18,
   "id": "d0ea9e1c",
   "metadata": {},
   "outputs": [],
   "source": [
    "# Create a cron iterator\n",
    "iter = croniter(expr, datetime.now())"
   ]
  },
  {
   "cell_type": "code",
   "execution_count": 19,
   "id": "579e36b0",
   "metadata": {},
   "outputs": [],
   "source": [
    "# Get the next scheduled run time\n",
    "next_run = iter.get_next(datetime)"
   ]
  },
  {
   "cell_type": "code",
   "execution_count": 20,
   "id": "6b972833",
   "metadata": {},
   "outputs": [],
   "source": [
    "# Calculate the delay until the next run\n",
    "delay = (next_run - datetime.now()).total_seconds()\n"
   ]
  },
  {
   "cell_type": "code",
   "execution_count": 21,
   "id": "eef56ecc",
   "metadata": {},
   "outputs": [],
   "source": [
    "# Wait for the delay\n",
    "time.sleep(delay)"
   ]
  },
  {
   "cell_type": "code",
   "execution_count": 22,
   "id": "8c567fc6",
   "metadata": {},
   "outputs": [
    {
     "data": {
      "text/plain": [
       "0"
      ]
     },
     "execution_count": 22,
     "metadata": {},
     "output_type": "execute_result"
    }
   ],
   "source": [
    "# Run the task\n",
    "os.system('python3 OngoingDataRefresh.ipynb')"
   ]
  },
  {
   "cell_type": "code",
   "execution_count": null,
   "id": "81e4cb8a",
   "metadata": {},
   "outputs": [],
   "source": []
  }
 ],
 "metadata": {
  "kernelspec": {
   "display_name": "Python 3 (ipykernel)",
   "language": "python",
   "name": "python3"
  },
  "language_info": {
   "codemirror_mode": {
    "name": "ipython",
    "version": 3
   },
   "file_extension": ".py",
   "mimetype": "text/x-python",
   "name": "python",
   "nbconvert_exporter": "python",
   "pygments_lexer": "ipython3",
   "version": "3.11.2"
  }
 },
 "nbformat": 4,
 "nbformat_minor": 5
}
